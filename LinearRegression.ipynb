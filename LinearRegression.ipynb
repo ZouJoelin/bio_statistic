{
 "cells": [
  {
   "cell_type": "code",
   "execution_count": 1,
   "metadata": {},
   "outputs": [],
   "source": [
    "import numpy as np\n",
    "import pandas as pd\n",
    "import matplotlib.pyplot as plt\n",
    "from utils import *\n",
    "\n",
    "import copy\n",
    "import math"
   ]
  },
  {
   "cell_type": "code",
   "execution_count": 28,
   "metadata": {},
   "outputs": [],
   "source": [
    "# load the dataset\n",
    "file = \"data/data_classfied.txt\"\n",
    "x_train, y_train = load_data_multi(file)\n",
    "devide = 1059\n",
    "x_tumor = x_train[0:devide, :]\n",
    "x_normal = x_train[devide:, :]\n",
    "y_tumor = y_train[0:devide]\n",
    "y_normal = y_train[devide:]\n",
    "\n",
    "x_header = load_data_header(file)\n",
    "\n",
    "#print(x_train)"
   ]
  },
  {
   "cell_type": "code",
   "execution_count": 27,
   "metadata": {},
   "outputs": [
    {
     "name": "stdout",
     "output_type": "stream",
     "text": [
      "Type of x_tumor: <class 'numpy.ndarray'>\n",
      "Last five elements of x_tumor are:\n",
      " [[0.         0.         0.         0.         0.76431182 0.79185459]\n",
      " [0.52351059 0.27395787 1.29680904 1.06347316 1.26539844 1.18462833]\n",
      " [0.57607212 0.31565596 0.22797305 0.81675979 0.52477803 0.33538446]\n",
      " [0.         0.67430729 0.33283116 0.60514757 0.2982513  0.1988342 ]\n",
      " [0.14769608 0.35077819 0.21415931 0.36185539 0.45785784 0.73848039]]\n",
      "Type of x_normal: <class 'numpy.ndarray'>\n",
      "First five elements of x_normal are:\n",
      " [[0.37755531 0.11474729 0.29894653 0.3557166  0.41595893 0.24957536]\n",
      " [0.13187297 0.         0.         0.         0.13187297 0.42858714]\n",
      " [0.17040193 0.         0.33631889 0.         0.39618449 0.63900724]\n",
      " [0.18330582 0.18330582 0.         0.         0.18330582 0.        ]\n",
      " [0.34291393 0.         0.53886523 0.17145696 0.32148181 0.17145696]]\n",
      "Type of y_tumor: <class 'numpy.ndarray'>\n",
      "Last five elements of y_tumor are:\n",
      " [4.33760316 5.14919625 4.93235497 3.39661485 5.22651289]\n",
      "Type of y_normal: <class 'numpy.ndarray'>\n",
      "First five elements of y_normal are:\n",
      " [4.71461347 3.87977665 2.74373859 3.00857971 5.13778586]\n",
      "The shape of x_tumor is: (1059, 6)\n",
      "The shape of x_normal is: (110, 6)\n",
      "The shape of y_tumor is:  (1059,)\n",
      "The shape of y_normal is:  (110,)\n",
      "Number of training examples (m): 1169\n",
      "\n"
     ]
    }
   ],
   "source": [
    "# print x_tumor\n",
    "print(\"Type of x_tumor:\", type(x_tumor))\n",
    "print(\"Last five elements of x_tumor are:\\n\", x_tumor[-5:])\n",
    "\n",
    "# print x_normal\n",
    "print(\"Type of x_normal:\", type(x_normal))\n",
    "print(\"First five elements of x_normal are:\\n\", x_normal[:5])\n",
    "\n",
    "# print y_tumor\n",
    "print(\"Type of y_tumor:\", type(y_tumor))\n",
    "print(\"Last five elements of y_tumor are:\\n\", y_tumor[-5:])\n",
    "\n",
    "# print x_normal\n",
    "print(\"Type of y_normal:\", type(y_normal))\n",
    "print(\"First five elements of y_normal are:\\n\", y_normal[:5])\n",
    "\n",
    "\n",
    "print('The shape of x_tumor is:', x_tumor.shape)\n",
    "print('The shape of x_normal is:', x_normal.shape)\n",
    "print('The shape of y_tumor is: ', y_tumor.shape)\n",
    "print('The shape of y_normal is: ', y_normal.shape)\n",
    "\n",
    "print('Number of training examples (m):', len(x_train))\n",
    "print()"
   ]
  },
  {
   "cell_type": "code",
   "execution_count": 38,
   "metadata": {},
   "outputs": [],
   "source": [
    "if 0:\n",
    "    x_train = x_tumor\n",
    "    y_train = y_tumor\n",
    "else:\n",
    "    x_train = x_normal\n",
    "    y_train = y_normal"
   ]
  },
  {
   "cell_type": "code",
   "execution_count": null,
   "metadata": {},
   "outputs": [],
   "source": [
    "# Create a scatter plot of the data. To change the markers to red \"x\",\n",
    "# we used the 'marker' and 'c' parameters\n",
    "plt.scatter(x_train, y_train, marker='x', c='r')\n",
    "# Set the title\n",
    "# plt.title(\"Profits vs. Population per city\")\n",
    "# Set the y-axis label\n",
    "#plt.ylabel('Profit in $10,000')\n",
    "# Set the x-axis label\n",
    "#plt.xlabel('Population of City in 10,000s')\n",
    "\n",
    "plt.show()\n"
   ]
  },
  {
   "cell_type": "code",
   "execution_count": 39,
   "metadata": {},
   "outputs": [
    {
     "name": "stdout",
     "output_type": "stream",
     "text": [
      "Type of scaled_x_train: <class 'numpy.ndarray'>\n",
      "First five elements of x_train are:\n",
      " [[ 0.64647829 -0.59717539  0.24216914  0.19392107  0.33799406 -0.29643442]\n",
      " [-0.50200522 -1.04964457 -1.07560051 -1.10063953 -0.65622427  0.43656738]\n",
      " [-0.32189507 -1.04964457  0.40690816 -1.10063953  0.26878928  1.29817721]\n",
      " [-0.26157366 -0.32683679 -1.07560051 -1.10063953 -0.47622422 -1.31837376]\n",
      " [ 0.48454132 -1.04964457  1.2997415  -0.47665564  0.00735157 -0.61630679]]\n"
     ]
    }
   ],
   "source": [
    "# z-score feature scaling\n",
    "scaled_x_train = zscore_normalize_features(x_train)\n",
    "#scaled_x_train = x_train\n",
    "\n",
    "#y_train = zscore_normalize_features(y_train)\n",
    "\n",
    "# print scaled_x_train\n",
    "print(\"Type of scaled_x_train:\", type(scaled_x_train))\n",
    "print(\"First five elements of x_train are:\\n\", scaled_x_train[:5])\n"
   ]
  },
  {
   "cell_type": "code",
   "execution_count": null,
   "metadata": {},
   "outputs": [],
   "source": [
    "# Create a scatter plot of the data. To change the markers to red \"x\",\n",
    "# we used the 'marker' and 'c' parameters\n",
    "plt.scatter(scaled_x_train, y_train, marker='x', c='r')\n",
    "# Set the title\n",
    "#plt.title(\"Profits vs. Population per city\")\n",
    "# Set the y-axis label\n",
    "#plt.ylabel('Profit in $10,000')\n",
    "# Set the x-axis label\n",
    "#plt.xlabel('Population of City in 10,000s')\n",
    "\n",
    "plt.show()\n"
   ]
  },
  {
   "cell_type": "code",
   "execution_count": 40,
   "metadata": {},
   "outputs": [
    {
     "name": "stdout",
     "output_type": "stream",
     "text": [
      "(110, 6)\n"
     ]
    }
   ],
   "source": [
    "# feature engineering\n",
    "x = scaled_x_train\n",
    "X = np.c_[x]    #, x**2, x**3]\n",
    "\n",
    "print(X.shape)"
   ]
  },
  {
   "cell_type": "code",
   "execution_count": 41,
   "metadata": {},
   "outputs": [
    {
     "name": "stdout",
     "output_type": "stream",
     "text": [
      "[[0.98611883 0.03502643 0.99845028 0.27672777 0.37724657 0.61999428]]\n",
      "Gradient at test w, b: [[1.24180155]\n",
      " [0.94786685]\n",
      " [1.53102608]\n",
      " [1.45081074]\n",
      " [1.27889916]\n",
      " [1.07487224]] -3.5469734762363636\n"
     ]
    }
   ],
   "source": [
    "m, n = x_train.shape\n",
    "test_w = np.random.rand(1,n)\n",
    "print(test_w)\n",
    "test_b = 0.2\n",
    "\n",
    "tmp_dj_dw, tmp_dj_db = compute_gradient_matrix(X, y_train, test_w, test_b)\n",
    "\n",
    "print('Gradient at test w, b:', tmp_dj_dw, tmp_dj_db)\n"
   ]
  },
  {
   "cell_type": "code",
   "execution_count": 42,
   "metadata": {},
   "outputs": [
    {
     "name": "stdout",
     "output_type": "stream",
     "text": [
      "Iteration    0: Cost 7.0504444116290514   \n",
      "Iteration  150: Cost 0.48899704366303337   \n",
      "Iteration  300: Cost 0.16630010441938706   \n",
      "Iteration  450: Cost 0.15008730888824964   \n",
      "Iteration  600: Cost 0.1491791220473181   \n",
      "Iteration  750: Cost 0.149100739107533   \n",
      "Iteration  900: Cost 0.14908648107934902   \n",
      "Iteration 1050: Cost 0.1490824599434169   \n",
      "Iteration 1200: Cost 0.14908115100763095   \n",
      "Iteration 1350: Cost 0.14908069126954035   \n",
      "w,b found by gradient descent: [ 0.12405829  0.09569233  0.03457661  0.01177097 -0.1112786   0.12564871] 3.7469724133850466\n"
     ]
    }
   ],
   "source": [
    "m, n = x_train.shape\n",
    "# initialize fitting parameters. Recall that the shape of w is (n,)\n",
    "initial_w = np.zeros(n)\n",
    "initial_b = 0.\n",
    "\n",
    "# some gradient descent settings\n",
    "iterations = 1500\n",
    "alpha = 0.01\n",
    "\n",
    "w, b, _= gradient_descent(X, y_train, initial_w, initial_b, alpha, iterations)\n",
    "print(\"w,b found by gradient descent:\", w, b)\n"
   ]
  },
  {
   "cell_type": "code",
   "execution_count": 17,
   "metadata": {},
   "outputs": [
    {
     "name": "stdout",
     "output_type": "stream",
     "text": [
      "1059\n",
      "6\n",
      "Type of scaled_x_train: <class 'numpy.ndarray'>\n",
      "First five elements of scaled_x_train are:\n",
      " [[0.17088312 0.36787291 0.77609418 0.72625327 0.69065262 0.38448702]\n",
      " [0.45748046 0.         0.20234709 0.29340328 0.30857931 0.23775783]\n",
      " [0.99336503 0.50963945 0.34551827 0.65264601 0.83500364 1.15748621]\n",
      " [0.15393934 0.         0.         0.15393934 0.36560594 0.52724225]\n",
      " [0.17199091 0.25798636 0.17199091 0.79115817 0.61630017 0.17199091]]\n",
      "Type of X: <class 'numpy.ndarray'>\n",
      "First five elements of X are:\n",
      " [[0.17088312 0.36787291 0.77609418 0.72625327 0.69065262 0.38448702]\n",
      " [0.45748046 0.         0.20234709 0.29340328 0.30857931 0.23775783]\n",
      " [0.99336503 0.50963945 0.34551827 0.65264601 0.83500364 1.15748621]\n",
      " [0.15393934 0.         0.         0.15393934 0.36560594 0.52724225]\n",
      " [0.17199091 0.25798636 0.17199091 0.79115817 0.61630017 0.17199091]]\n",
      "Type of w: <class 'numpy.ndarray'>\n",
      "First five elements of w are:\n",
      " [ 0.17029532 -0.08029708  0.11572202  0.02402818  0.10195219]\n",
      "The shape of X is: (1059, 6)\n",
      "The shape of w is:  (6,)\n"
     ]
    }
   ],
   "source": [
    "print(m)\n",
    "print(n)\n",
    "\n",
    "# print x_train\n",
    "print(\"Type of scaled_x_train:\", type(scaled_x_train))\n",
    "print(\"First five elements of scaled_x_train are:\\n\", scaled_x_train[:5])\n",
    "\n",
    "# print X\n",
    "print(\"Type of X:\", type(X))\n",
    "print(\"First five elements of X are:\\n\", X[:5])\n",
    "\n",
    "# print w\n",
    "print(\"Type of w:\", type(w))\n",
    "print(\"First five elements of w are:\\n\", w[:5])\n",
    "\n",
    "\n",
    "print('The shape of X is:', X.shape)\n",
    "print('The shape of w is: ', w.shape)\n"
   ]
  },
  {
   "cell_type": "code",
   "execution_count": 18,
   "metadata": {},
   "outputs": [
    {
     "name": "stdout",
     "output_type": "stream",
     "text": [
      "[4.53395521 4.4770164  4.7286728  ... 4.52244623 4.36132009 4.48099097]\n"
     ]
    },
    {
     "data": {
      "text/plain": [
       "{'whiskers': [<matplotlib.lines.Line2D at 0x260ad3086a0>,\n",
       "  <matplotlib.lines.Line2D at 0x260ad308940>],\n",
       " 'caps': [<matplotlib.lines.Line2D at 0x260ad308be0>,\n",
       "  <matplotlib.lines.Line2D at 0x260ad308eb0>],\n",
       " 'boxes': [<matplotlib.lines.Line2D at 0x260ad308400>],\n",
       " 'medians': [<matplotlib.lines.Line2D at 0x260ad316190>],\n",
       " 'fliers': [<matplotlib.lines.Line2D at 0x260ad316430>],\n",
       " 'means': []}"
      ]
     },
     "execution_count": 18,
     "metadata": {},
     "output_type": "execute_result"
    },
    {
     "data": {
      "image/png": "[encoded data removed]",
      "text/plain": [
       "<Figure size 640x480 with 1 Axes>"
      ]
     },
     "metadata": {},
     "output_type": "display_data"
    }
   ],
   "source": [
    "predicted = X @ w + b\n",
    "print(predicted)\n",
    "plt.boxplot(predicted)"
   ]
  },
  {
   "cell_type": "code",
   "execution_count": null,
   "metadata": {},
   "outputs": [],
   "source": [
    "# Plot the linear fit\n",
    "plt.plot(x_train, predicted, c=\"b\")\n",
    "\n",
    "# Create a scatter plot of the data.\n",
    "plt.scatter(x_train, y_train, marker='x', c='r')\n",
    "\n",
    "# Set the title\n",
    "#plt.title(\"Profits vs. Population per city\")\n",
    "# Set the y-axis label\n",
    "#plt.ylabel('Profit in $10,000')\n",
    "# Set the x-axis label\n",
    "#plt.xlabel('Population of City in 10,000s')\n",
    "\n"
   ]
  },
  {
   "cell_type": "code",
   "execution_count": null,
   "metadata": {},
   "outputs": [],
   "source": [
    "predict1 = 3.5 * w + b\n",
    "print('For population = 35,000, we predict a profit of $%.2f' % (predict1*10000))\n",
    "\n",
    "predict2 = 7.0 * w + b\n",
    "print('For population = 70,000, we predict a profit of $%.2f' % (predict2*10000))\n"
   ]
  }
 ],
 "metadata": {
  "kernelspec": {
   "display_name": "linearRegession",
   "language": "python",
   "name": "python3"
  },
  "language_info": {
   "codemirror_mode": {
    "name": "ipython",
    "version": 3
   },
   "file_extension": ".py",
   "mimetype": "text/x-python",
   "name": "python",
   "nbconvert_exporter": "python",
   "pygments_lexer": "ipython3",
   "version": "3.9.16"
  },
  "orig_nbformat": 4,
  "vscode": {
   "interpreter": {
    "hash": "87e067a894a2eed92d20792d273229545882c8a250c4401d61a410123b3d9ecf"
   }
  }
 },
 "nbformat": 4,
 "nbformat_minor": 2
}
